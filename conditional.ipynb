{
  "nbformat": 4,
  "nbformat_minor": 0,
  "metadata": {
    "colab": {
      "provenance": [],
      "authorship_tag": "ABX9TyNSMSTz5ODQdFiZ37lP8k9Y",
      "include_colab_link": true
    },
    "kernelspec": {
      "name": "python3",
      "display_name": "Python 3"
    },
    "language_info": {
      "name": "python"
    }
  },
  "cells": [
    {
      "cell_type": "markdown",
      "metadata": {
        "id": "view-in-github",
        "colab_type": "text"
      },
      "source": [
        "<a href=\"https://colab.research.google.com/github/unshaider/conditional/blob/main/conditional.ipynb\" target=\"_parent\"><img src=\"https://colab.research.google.com/assets/colab-badge.svg\" alt=\"Open In Colab\"/></a>"
      ]
    },
    {
      "cell_type": "markdown",
      "source": [
        "# **Questions on Conditionals:**\n",
        "\n",
        "### **1. Age Group Categorization:**\n",
        "\n",
        "**Problem:** Classify a person's age group: Child (< 13), Teenager (13-19), Adult (20-59), Senior (60+).\n",
        "\n",
        "### **2. Movie Ticket Pricing:**\n",
        "\n",
        "**Problem:** Movie tickets are priced based on age: \\$12 for adults (18 and over), \\$8 for children. Everyone gets a $2 discount on Wednesday.\n",
        "\n",
        "### **3. Grade Calculator:**\n",
        "\n",
        "**Problem:** Assign a letter grade based on a student's score: A (90-100), B (80-89), C (70-79), D (60-69), F (below 60).\n",
        "\n",
        "### **4. Fruit Ripeness Checker:**\n",
        "\n",
        "**Problem:** Determine if a fruit is ripe, overripe, or unripe based on its color. (e.g., Banana: Green - Unripe, Yellow - Ripe, Brown - Overripe)\n",
        "\n",
        "### **5. Weather Activity Suggestion:**\n",
        "\n",
        "**Problem:** Suggest an activity based on the weather (e.g., Sunny - Go for a walk, Rainy - Read a book, Snowy - Build a snowman).\n",
        "\n",
        "### **6. Transportation Mode Selection:**\n",
        "\n",
        "**Problem:** Choose a mode of transportation based on the distance (e.g., <3 km: Walk, 3-15 km: Bike, >15 km: Car).\n",
        "\n",
        "### **7. Coffee Customization:**\n",
        "\n",
        "**Problem:** Customize a coffee order: \"Small\", \"Medium\", or \"Large\" with an option for \"Extra shot\" of espresso.\n",
        "\n",
        "### **8. Password Strength Checker:**\n",
        "\n",
        "**Problem:** Check if a password is \"Weak\", \"Medium\", or \"Strong\". Criteria: < 6 chars (Weak), 6-10 chars (Medium), >10 chars (Strong).\n",
        "\n",
        "### **9. Leap Year Checker:**\n",
        "\n",
        "**Problem:** Determine if a year is a leap year. (Leap years are divisible by 4, but not by 100 unless also divisible by 400).\n",
        "\n",
        "### **10. Pet Food Recommendation:**\n",
        "\n",
        "**Problem:** Recommend a type of pet food based on the pet's species and age. (e.g., Dog: <2 years - Puppy food, Cat: >5 years - Senior cat food)."
      ],
      "metadata": {
        "id": "SQ5XPfQ3217r"
      }
    },
    {
      "cell_type": "markdown",
      "source": [
        "## **1. Age Group Categorization:**\n",
        "\n",
        "**Problem:** Classify a person's age group: Child (< 13), Teenager (13-19), Adult (20-59), Senior (60+)."
      ],
      "metadata": {
        "id": "Ncxg03_16njK"
      }
    },
    {
      "cell_type": "code",
      "source": [
        "age: int = int(input(\"Enter your age: \"))\n",
        "\n",
        "if age < 0:\n",
        "  print(\"Invalid age\")\n",
        "elif age < 13:\n",
        "  print(\"You are Child.\")\n",
        "elif age < 19:\n",
        "  print(\"You are Teenager.\")\n",
        "elif age < 59:\n",
        "  print(\"You are Adult.\")\n",
        "elif age >= 60:\n",
        "  print(\"You are Senior.\")"
      ],
      "metadata": {
        "colab": {
          "base_uri": "https://localhost:8080/"
        },
        "id": "-E0dKPPl6zMt",
        "outputId": "3286bba8-7bed-4718-9867-b8a30b215b9e"
      },
      "execution_count": 11,
      "outputs": [
        {
          "output_type": "stream",
          "name": "stdout",
          "text": [
            "Enter your age: 20\n",
            "You are Adult.\n"
          ]
        }
      ]
    },
    {
      "cell_type": "markdown",
      "source": [
        "## **2. Movie Ticket Pricing:**\n",
        "\n",
        "**Problem:** Movie tickets are priced based on age: \\$12 for adults (18 and over), \\$8 for children. Everyone gets a $2 discount on Wednesday."
      ],
      "metadata": {
        "id": "SsRJowTi9Khz"
      }
    },
    {
      "cell_type": "code",
      "source": [
        "age: int = int(input(\"Enter your age: \"))\n",
        "day: str = input(\"What day is today: \")\n",
        "\n",
        "price: int = 12 if age >= 18 else 8\n",
        "\n",
        "if age < 0:\n",
        "  print(\"Invalid age\")\n",
        "elif day == \"Wednesday\" or \"wednesday\" or \"WEDNESDAY\":\n",
        "  print(f\"Your ticket price is ${price - 2}.\")\n",
        "else:\n",
        "  print(f\"Your ticket price is ${price}.\")"
      ],
      "metadata": {
        "colab": {
          "base_uri": "https://localhost:8080/"
        },
        "id": "Ow9TfAsV9Qw1",
        "outputId": "de6562ac-c786-46b1-cac0-cb9a9d917d98"
      },
      "execution_count": 24,
      "outputs": [
        {
          "output_type": "stream",
          "name": "stdout",
          "text": [
            "Enter your age: 20\n",
            "What day is today: WEDNESDAY\n",
            "Your ticket price is $10.\n"
          ]
        }
      ]
    },
    {
      "cell_type": "markdown",
      "source": [
        "## **3. Grade Calculator:**\n",
        "\n",
        "**Problem:** Assign a letter grade based on a student's score: A (90-100), B (80-89), C (70-79), D (60-69), F (below 60)."
      ],
      "metadata": {
        "id": "BRgSkb0TD46V"
      }
    },
    {
      "cell_type": "code",
      "source": [
        "percentage: float = float(input(\"Enter your percentage: \"))\n",
        "\n",
        "if percentage > 100 or percentage < 0:\n",
        "  print(\"Invalid Percentage\")\n",
        "elif percentage >= 90:\n",
        "  print(\"Your grade is A.\")\n",
        "elif percentage >= 80:\n",
        "  print(\"Your grade is B.\")\n",
        "elif percentage >= 70:\n",
        "  print(\"Your grade is C.\")\n",
        "elif percentage >= 60:\n",
        "  print(\"Your grade is D.\")\n",
        "else:\n",
        "  print(\"You are Fail.\")"
      ],
      "metadata": {
        "colab": {
          "base_uri": "https://localhost:8080/"
        },
        "id": "2D7vli8_D75-",
        "outputId": "114ddf70-8cf2-4622-d1bc-d9a7f694ffb9"
      },
      "execution_count": 29,
      "outputs": [
        {
          "output_type": "stream",
          "name": "stdout",
          "text": [
            "Enter your percentage: 76\n",
            "Your grade is C.\n"
          ]
        }
      ]
    },
    {
      "cell_type": "markdown",
      "source": [
        "## **4. Fruit Ripeness Checker:**\n",
        "\n",
        "**Problem:** Determine if a fruit is ripe, overripe, or unripe based on its color. (e.g., Banana: Green - Unripe, Yellow - Ripe, Brown - Overripe)"
      ],
      "metadata": {
        "id": "knDPRY2-Fu_W"
      }
    },
    {
      "cell_type": "code",
      "source": [
        "banana_color: str = input(\"What is the color of banana (Green, Yellow or Brown): \").lower()\n",
        "\n",
        "if banana_color == \"green\":\n",
        "  print(\"Your banana is Unripe\")\n",
        "elif banana_color == \"yellow\":\n",
        "  print(\"Your banana is Ripe\")\n",
        "elif banana_color == \"brown\":\n",
        "  print(\"Your banana is Overripe\")\n",
        "else:\n",
        "  print(\"Invalid banana color. Please choose from Green, Yellow or Brown.\")"
      ],
      "metadata": {
        "colab": {
          "base_uri": "https://localhost:8080/"
        },
        "id": "fc6jgJKfFwUQ",
        "outputId": "fa40c8b2-99c1-40e5-9c24-2748113ec4f9"
      },
      "execution_count": 9,
      "outputs": [
        {
          "output_type": "stream",
          "name": "stdout",
          "text": [
            "What is the color of banana (Green, Yellow or Brown): brown\n",
            "Your banana is Overripe\n"
          ]
        }
      ]
    },
    {
      "cell_type": "markdown",
      "source": [
        "## **5. Weather Activity Suggestion:**\n",
        "\n",
        "**Problem:** Suggest an activity based on the weather (e.g., Sunny - Go for a walk, Rainy - Read a book, Snowy - Build a snowman)."
      ],
      "metadata": {
        "id": "DLbWybDqG0hN"
      }
    },
    {
      "cell_type": "code",
      "source": [
        "weather: str = input(\"What is today's weather (Sunny, Rainy or Snowy): \").lower()\n",
        "\n",
        "if weather == \"sunny\":\n",
        "  print(\"Go for a walk.\")\n",
        "elif weather == \"rainy\":\n",
        "  print(\"Read a book.\")\n",
        "elif weather == \"snowy\":\n",
        "  print(\"Build a snowman.\")\n",
        "else:\n",
        "  print(\"Invalid weather. Please choose from Sunny, Rainy or Snowy.\")"
      ],
      "metadata": {
        "colab": {
          "base_uri": "https://localhost:8080/"
        },
        "id": "CsopEyv8HMZ9",
        "outputId": "620b357a-5055-4e98-9a3f-eea540c200ac"
      },
      "execution_count": 12,
      "outputs": [
        {
          "output_type": "stream",
          "name": "stdout",
          "text": [
            "What is today's weather (Sunny, Rainy or Snowy): RAINY\n",
            "Read a book.\n"
          ]
        }
      ]
    },
    {
      "cell_type": "markdown",
      "source": [
        "## **6. Transportation Mode Selection:**\n",
        "\n",
        "**Problem:** Choose a mode of transportation based on the distance (e.g., <3 km: Walk, 3-15 km: Bike, >15 km: Car)."
      ],
      "metadata": {
        "id": "aJnwCvG1IP9G"
      }
    },
    {
      "cell_type": "code",
      "source": [
        "distance: float = float(input(\"Enter your distance in km: \"))\n",
        "\n",
        "if distance < 0:\n",
        "  print(\"Invalid distance\")\n",
        "elif distance < 3:\n",
        "  print(\"Walk\")\n",
        "elif distance <= 15:\n",
        "  print(\"Bike\")\n",
        "elif distance > 15:\n",
        "  print(\"Car\")"
      ],
      "metadata": {
        "colab": {
          "base_uri": "https://localhost:8080/"
        },
        "id": "1tk9lk2GIXgx",
        "outputId": "ee700d1f-f7f7-4b9e-f7b6-43d7b85b9d7c"
      },
      "execution_count": 36,
      "outputs": [
        {
          "output_type": "stream",
          "name": "stdout",
          "text": [
            "Enter your distance in km: 15\n",
            "Bike\n"
          ]
        }
      ]
    },
    {
      "cell_type": "markdown",
      "source": [
        "## **7. Coffee Customization:**\n",
        "\n",
        "**Problem:** Customize a coffee order: \"Small\", \"Medium\", or \"Large\" with an option for \"Extra shot\" of espresso."
      ],
      "metadata": {
        "id": "ziXyywDAJsz2"
      }
    },
    {
      "cell_type": "code",
      "source": [
        "size: str = input(\"Which size of coffee will you order (Small, Medium or Large): \").lower()\n",
        "extra_shot: str = input(\"Do you want an extra shot of espresso? (yes/no): \").lower()\n",
        "\n",
        "if size == \"small\" or size == \"medium\" or size == \"large\":\n",
        "  if extra_shot == \"yes\":\n",
        "    print(f\"You ordered {size} coffee with an extra shot of espresso.\")\n",
        "  elif extra_shot == \"no\":\n",
        "    print(f\"You ordered {size} coffee.\")\n",
        "  else:\n",
        "    print(\"Invalid input. Please enter between yes or no.\")\n",
        "else:\n",
        "  print(\"Invalid size of coffee. Please choose from Small, Medium or Large.\")"
      ],
      "metadata": {
        "colab": {
          "base_uri": "https://localhost:8080/"
        },
        "id": "CKtZV5XjJy3_",
        "outputId": "dd3f5f93-261d-456c-fde1-fa3f9fcb9cfb"
      },
      "execution_count": 17,
      "outputs": [
        {
          "output_type": "stream",
          "name": "stdout",
          "text": [
            "Which size of coffee will you order (Small, Medium or Large): medium\n",
            "Do you want an extra shot of espresso? (yes/no): yes\n",
            "You ordered medium coffee with an extra shot of espresso.\n"
          ]
        }
      ]
    },
    {
      "cell_type": "markdown",
      "source": [
        "## **8. Password Strength Checker:**\n",
        "\n",
        "**Problem:** Check if a password is \"Weak\", \"Medium\", or \"Strong\". Criteria: < 6 chars (Weak), 6-10 chars (Medium), >10 chars (Strong)."
      ],
      "metadata": {
        "id": "uKI3keRfKlEY"
      }
    },
    {
      "cell_type": "code",
      "source": [
        "password: str = input(\"Enter your password: \")\n",
        "\n",
        "if len(password) < 6:\n",
        "  print(\"Your password is Weak.\")\n",
        "elif len(password) <= 10:\n",
        "  print(\"Your password is Medium.\")\n",
        "else:\n",
        "  print(\"Your password is Strong.\")"
      ],
      "metadata": {
        "colab": {
          "base_uri": "https://localhost:8080/"
        },
        "id": "ne7X9hICKnW-",
        "outputId": "294798b8-9d6b-4b4c-b00a-117397b5f16a"
      },
      "execution_count": 40,
      "outputs": [
        {
          "output_type": "stream",
          "name": "stdout",
          "text": [
            "Enter your password: jhckjkJXvgjJkzxL&*!{}\n",
            "Your password is Strong.\n"
          ]
        }
      ]
    },
    {
      "cell_type": "markdown",
      "source": [
        "## **9. Leap Year Checker:**\n",
        "\n",
        "**Problem:** Determine if a year is a leap year. (Leap years are divisible by 4, but not by 100 unless also divisible by 400)."
      ],
      "metadata": {
        "id": "5LPdwakqLnQb"
      }
    },
    {
      "cell_type": "code",
      "source": [
        "year: int = int(input(\"Enter the year: \"))\n",
        "\n",
        "if year % 4 == 0:\n",
        "  if year % 100 == 0:\n",
        "    if year % 400 == 0:\n",
        "      print(f\"{year} is leap year.\")\n",
        "    else:\n",
        "      print(f\"{year} is not leap year.\")\n",
        "  else:\n",
        "    print(f\"{year} is leap year.\")\n",
        "else:\n",
        "  print(f\"{year} is not leap year.\")"
      ],
      "metadata": {
        "colab": {
          "base_uri": "https://localhost:8080/"
        },
        "id": "iQ_DzBNTLpk4",
        "outputId": "729c630a-bb1c-4158-ec92-0a4a72e2ebb5"
      },
      "execution_count": 47,
      "outputs": [
        {
          "output_type": "stream",
          "name": "stdout",
          "text": [
            "Enter the year: 2024\n",
            "2024 is leap year.\n"
          ]
        }
      ]
    },
    {
      "cell_type": "markdown",
      "source": [
        "## **10. Pet Food Recommendation:**\n",
        "\n",
        "**Problem:** Recommend a type of pet food based on the pet's species and age. (e.g., Dog: <2 years - Puppy food, Cat: >5 years - Senior cat food)."
      ],
      "metadata": {
        "id": "ptf9mUVjOL2A"
      }
    },
    {
      "cell_type": "code",
      "source": [
        "specie: str = input(\"Enter your pet specie (Cat or Dog): \").lower()\n",
        "age: int = int(input(f\"What is the age of your {specie}: \"))\n",
        "\n",
        "if specie == \"dog\":\n",
        "  if age < 2:\n",
        "    print(\"Puppy food.\")\n",
        "  else:\n",
        "    print(\"Senior dog food.\")\n",
        "elif specie == \"cat\":\n",
        "  if age < 5:\n",
        "    print(\"Kitten food.\")\n",
        "  else:\n",
        "    print(\"Senior cat food.\")\n",
        "else:\n",
        "  print(\"Invalid specie. Please choose from Cat or Dog.\")"
      ],
      "metadata": {
        "colab": {
          "base_uri": "https://localhost:8080/"
        },
        "id": "zSV-NI0K4yCQ",
        "outputId": "5e3409bd-06e5-4393-f151-3a44809516e8"
      },
      "execution_count": 24,
      "outputs": [
        {
          "output_type": "stream",
          "name": "stdout",
          "text": [
            "Enter your pet specie (Cat or Dog): dog\n",
            "What is the age of your dog: 1\n",
            "Puppy food.\n"
          ]
        }
      ]
    }
  ]
}